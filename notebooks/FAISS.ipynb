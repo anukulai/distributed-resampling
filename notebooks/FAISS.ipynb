{
 "cells": [
  {
   "cell_type": "code",
   "execution_count": null,
   "id": "d85c47b7",
   "metadata": {},
   "outputs": [],
   "source": [
    "!pip install faiss-cpu"
   ]
  },
  {
   "cell_type": "code",
   "execution_count": 2,
   "id": "f201ffe8",
   "metadata": {},
   "outputs": [],
   "source": [
    "import faiss\n",
    "import numpy as np\n",
    "\n",
    "dummy_array = np.random.random((50, 2))\n",
    "query_vector = np.random.random((1, 2))\n",
    "\n",
    "hnsw_index = faiss.IndexHNSWFlat(2, 3)\n",
    "hnsw_index.train(dummy_array)\n",
    "hnsw_index.add(dummy_array)"
   ]
  },
  {
   "cell_type": "code",
   "execution_count": 1,
   "id": "7e72f00c",
   "metadata": {},
   "outputs": [
    {
     "ename": "NameError",
     "evalue": "name 'hnsw_index' is not defined",
     "output_type": "error",
     "traceback": [
      "\u001b[0;31m---------------------------------------------------------------------------\u001b[0m",
      "\u001b[0;31mNameError\u001b[0m                                 Traceback (most recent call last)",
      "\u001b[0;32m/var/folders/55/hgp9m8kx5bjgqq1t99g02zxw0000gn/T/ipykernel_1931/723659676.py\u001b[0m in \u001b[0;36m<module>\u001b[0;34m\u001b[0m\n\u001b[0;32m----> 1\u001b[0;31m \u001b[0mhnsw_index\u001b[0m\u001b[0;34m.\u001b[0m\u001b[0msearch\u001b[0m\u001b[0;34m(\u001b[0m\u001b[0mquery_vector\u001b[0m\u001b[0;34m,\u001b[0m \u001b[0mk\u001b[0m\u001b[0;34m=\u001b[0m\u001b[0;36m1\u001b[0m\u001b[0;34m)\u001b[0m\u001b[0;34m\u001b[0m\u001b[0;34m\u001b[0m\u001b[0m\n\u001b[0m",
      "\u001b[0;31mNameError\u001b[0m: name 'hnsw_index' is not defined"
     ]
    }
   ],
   "source": [
    "hnsw_index.search(query_vector, k=1)"
   ]
  },
  {
   "cell_type": "code",
   "execution_count": 3,
   "id": "ce1c6486",
   "metadata": {},
   "outputs": [
    {
     "data": {
      "text/plain": [
       "array([[0.09786462, 0.10897349, 0.99770706, ..., 0.5925917 , 0.80502293,\n",
       "        0.93328769],\n",
       "       [0.18777374, 0.00724374, 0.10863041, ..., 0.17852474, 0.09099893,\n",
       "        0.29230214],\n",
       "       [0.89046325, 0.92306013, 0.68686253, ..., 0.27419015, 0.03148934,\n",
       "        0.42766747],\n",
       "       ...,\n",
       "       [0.6151781 , 0.05210497, 0.30801333, ..., 0.52063643, 0.34401329,\n",
       "        0.5207577 ],\n",
       "       [0.88172485, 0.90630107, 0.51844815, ..., 0.44394653, 0.81599446,\n",
       "        0.96556041],\n",
       "       [0.83978315, 0.48558838, 0.89564635, ..., 0.73920647, 0.33179971,\n",
       "        0.45499569]])"
      ]
     },
     "execution_count": 3,
     "metadata": {},
     "output_type": "execute_result"
    }
   ],
   "source": [
    "dummy_array"
   ]
  },
  {
   "cell_type": "code",
   "execution_count": 4,
   "id": "827d6bdc",
   "metadata": {},
   "outputs": [],
   "source": []
  },
  {
   "cell_type": "code",
   "execution_count": 5,
   "id": "6d3e46bc",
   "metadata": {},
   "outputs": [
    {
     "data": {
      "text/plain": [
       "array([[0.30273916, 0.26895264, 0.89987579, 0.02701299, 0.75778693,\n",
       "        0.27298438, 0.71449036, 0.04800507, 0.12790802, 0.62286387,\n",
       "        0.26732152, 0.87639093, 0.74043086, 0.68029028, 0.07680364,\n",
       "        0.67904162, 0.21459461, 0.99040345, 0.52989765, 0.4926766 ,\n",
       "        0.19737692, 0.67972029, 0.28768365, 0.48535398, 0.35369514,\n",
       "        0.47232218, 0.50579535, 0.26163046, 0.49246136, 0.57337298,\n",
       "        0.50874332, 0.90932181]])"
      ]
     },
     "execution_count": 5,
     "metadata": {},
     "output_type": "execute_result"
    }
   ],
   "source": [
    "query_vector"
   ]
  },
  {
   "cell_type": "code",
   "execution_count": 6,
   "id": "daa189c8",
   "metadata": {},
   "outputs": [],
   "source": []
  },
  {
   "cell_type": "code",
   "execution_count": 7,
   "id": "2e4de182",
   "metadata": {},
   "outputs": [],
   "source": []
  },
  {
   "cell_type": "code",
   "execution_count": null,
   "id": "687590b4",
   "metadata": {},
   "outputs": [],
   "source": []
  },
  {
   "cell_type": "code",
   "execution_count": null,
   "id": "72d0df7b",
   "metadata": {},
   "outputs": [],
   "source": []
  },
  {
   "cell_type": "code",
   "execution_count": null,
   "id": "f416fd6e",
   "metadata": {},
   "outputs": [],
   "source": []
  }
 ],
 "metadata": {
  "kernelspec": {
   "display_name": "Python 3 (ipykernel)",
   "language": "python",
   "name": "python3"
  },
  "language_info": {
   "codemirror_mode": {
    "name": "ipython",
    "version": 3
   },
   "file_extension": ".py",
   "mimetype": "text/x-python",
   "name": "python",
   "nbconvert_exporter": "python",
   "pygments_lexer": "ipython3",
   "version": "3.9.13"
  }
 },
 "nbformat": 4,
 "nbformat_minor": 5
}
